{
 "cells": [
  {
   "cell_type": "markdown",
   "metadata": {},
   "source": [
    "# Plot Missing ET\n",
    "\n",
    "This is a short example of how to read in a flat ROOT file and plot the missing ET\n",
    "\n",
    "## Config"
   ]
  },
  {
   "cell_type": "code",
   "execution_count": 1,
   "metadata": {},
   "outputs": [],
   "source": [
    "# Location of the datafile we will read\n",
    "data_file = r\"file://G:\\GRIDDS\\user.emma.mc15_13TeV.304813.MadGraphPythia8EvtGen_A14NNPDF23LO_HSS_LLP_mH400_mS100_lt9m.merge.DAOD_EXOT15.e5102_s2698_r7772_r7676_p2952_v20\\copied\\signal_HSS_LLP_mH400_mS100_lt9m_addModifiedMLP.root\""
   ]
  },
  {
   "cell_type": "markdown",
   "metadata": {},
   "source": [
    "## Setup"
   ]
  },
  {
   "cell_type": "code",
   "execution_count": 8,
   "metadata": {},
   "outputs": [],
   "source": [
    "import uproot\n",
    "import matplotlib.pyplot as plt\n",
    "plt.rcParams[\"figure.figsize\"] = (10,7)"
   ]
  },
  {
   "cell_type": "markdown",
   "metadata": {},
   "source": [
    "## Load Data"
   ]
  },
  {
   "cell_type": "code",
   "execution_count": 3,
   "metadata": {},
   "outputs": [
    {
     "data": {
      "text/plain": [
       "[b'eventNumber',\n",
       " b'eventCount',\n",
       " b'runNumber',\n",
       " b'lumiBlock',\n",
       " b'backgroundFlags',\n",
       " b'eventWeight',\n",
       " b'prwHash',\n",
       " b'pdfEventWeights',\n",
       " b'pileupEventWeight',\n",
       " b'xSecEventWeight',\n",
       " b'actualIntPerCrossing',\n",
       " b'averageIntPerCrossing',\n",
       " b'event_HT',\n",
       " b'event_MHToHT',\n",
       " b'event_NJets',\n",
       " b'event_NCleanJets',\n",
       " b'event_NBIBJets',\n",
       " b'event_HTMiss',\n",
       " b'event_Meff',\n",
       " b'event_sumMinDR',\n",
       " b'event_tauRoI_maxET',\n",
       " b'event_passCalRatio_cleanLLP_TAU60',\n",
       " b'event_passCalRatio_cleanLLP_TAU60_noiso',\n",
       " b'event_passL1TAU60',\n",
       " b'event_passCalRatio_cleanLLP_LLPNOMATCH',\n",
       " b'event_passCalRatio_cleanLLP_LLPNOMATCH_noiso',\n",
       " b'event_passEmulationCalRatio_cleanLLP_LLPNOMATCH_noiso',\n",
       " b'event_passL1LLPNOMATCH',\n",
       " b'event_passEmulationL1LLPNOMATCH',\n",
       " b'event_passCalRatio_cleanLLP_LLPRO',\n",
       " b'event_passCalRatio_cleanLLP_LLPRO_noiso',\n",
       " b'event_passL1LLPRO',\n",
       " b'event_passJ25',\n",
       " b'event_passJ100',\n",
       " b'event_passJ400',\n",
       " b'event_passJ150_bperf_split',\n",
       " b'event_passJ15_bperf_split',\n",
       " b'event_passJ320_bperf_split',\n",
       " b'event_passJ45_bperf_split_3j45',\n",
       " b'event_passJ55_bperf_split',\n",
       " b'event_passJ85_bperf_split',\n",
       " b'event_pass3J175',\n",
       " b'event_pass3J200',\n",
       " b'event_pass4J100',\n",
       " b'event_pass4J110',\n",
       " b'event_pass4J120',\n",
       " b'event_PSJ25',\n",
       " b'event_PSJ100',\n",
       " b'event_PSJ400',\n",
       " b'event_PSJ150_bperf_split',\n",
       " b'event_PSJ15_bperf_split',\n",
       " b'event_PSJ320_bperf_split',\n",
       " b'event_PSJ45_bperf_split_3j45',\n",
       " b'event_PSJ55_bperf_split',\n",
       " b'event_PSJ85_bperf_split',\n",
       " b'event_PS3J175',\n",
       " b'event_PS3J200',\n",
       " b'event_PS4J100',\n",
       " b'event_PS4J110',\n",
       " b'event_PS4J120',\n",
       " b'dPhiLeadBDTsignalWeight_cleanJet',\n",
       " b'dRLeadBDTsignalWeight_cleanJet',\n",
       " b'dPhiLeadBDTmultijetsWeight_cleanJet',\n",
       " b'dRLeadBDTmultijetsWeight_cleanJet',\n",
       " b'eventBDT_value',\n",
       " b'BDT3weights_signal_cleanJet_index',\n",
       " b'BDT3weights_multijets_cleanJet_index',\n",
       " b'BDT3weights_bib_cleanJet_index',\n",
       " b'jetsLxyInHCal',\n",
       " b'jetsLxyInHEC',\n",
       " b'CalibJet_isGoodStand',\n",
       " b'CalibJet_isGoodLLP',\n",
       " b'CalibJet_ET',\n",
       " b'CalibJet_pT',\n",
       " b'CalibJet_eta',\n",
       " b'CalibJet_phi',\n",
       " b'CalibJet_width',\n",
       " b'CalibJet_logRatio',\n",
       " b'CalibJet_time',\n",
       " b'CalibJet_jvt',\n",
       " b'CalibJet_passJVT',\n",
       " b'CalibJet_BDT3weights_signal',\n",
       " b'CalibJet_BDT3weights_multijets',\n",
       " b'CalibJet_BDT3weights_bib',\n",
       " b'CalibJet_isCRHLTJet',\n",
       " b'CalibJet_indexLLP',\n",
       " b'CalibJet_nTrk',\n",
       " b'CalibJet_sumTrkpT',\n",
       " b'CalibJet_maxTrkpT',\n",
       " b'CalibJet_minDRTrkpt2',\n",
       " b'CalibJet_BIBDeltaTimingM',\n",
       " b'CalibJet_BIBDeltaTimingP',\n",
       " b'CalibJet_matchPassEmul',\n",
       " b'CalibJet_cluster_nClusters',\n",
       " b'CalibJet_cluster_lead_center',\n",
       " b'CalibJet_cluster_lead_x',\n",
       " b'CalibJet_cluster_lead_y',\n",
       " b'CalibJet_cluster_lead_z',\n",
       " b'CalibJet_cluster_lead_r',\n",
       " b'CalibJet_cluster_lead_Lxy',\n",
       " b'CalibJet_cluster_lead_ET',\n",
       " b'CalibJet_cluster_lead_pT',\n",
       " b'CalibJet_cluster_lead_eta',\n",
       " b'CalibJet_cluster_lead_phi',\n",
       " b'CalibJet_cluster_lead_time',\n",
       " b'CalibJet_cluster_lead_lambda',\n",
       " b'CalibJet_cluster_lead_lateral',\n",
       " b'CalibJet_cluster_lead_longitudinal',\n",
       " b'CalibJet_cluster_lead_first_Eden',\n",
       " b'CalibJet_cluster_lead_fracE_ofjet',\n",
       " b'CalibJet_Reg_Lxy',\n",
       " b'CalibJet_Reg_Lz',\n",
       " b'CalibJet_Reg_Lxy_lowEta',\n",
       " b'CalibJet_Reg_Lz_lowEta',\n",
       " b'CalibJet_Reg_Lxy_highEta',\n",
       " b'CalibJet_Reg_Lz_highEta',\n",
       " b'CalibJet_f_EH_layer0_cenbar',\n",
       " b'CalibJet_f_EH_layer1_cenbar',\n",
       " b'CalibJet_f_EH_layer2_cenbar',\n",
       " b'CalibJet_f_EH_layer1_tilegap',\n",
       " b'CalibJet_f_EH_layer2_tilegap',\n",
       " b'CalibJet_f_EH_layer3_tilegap',\n",
       " b'CalibJet_f_EH_layer0_extbar',\n",
       " b'CalibJet_f_EH_layer1_extbar',\n",
       " b'CalibJet_f_EH_layer2_extbar',\n",
       " b'CalibJet_f_EH_layer0_end',\n",
       " b'CalibJet_f_EH_layer1_end',\n",
       " b'CalibJet_f_EH_layer2_end',\n",
       " b'CalibJet_f_EH_layer3_end',\n",
       " b'CalibJet_f_EEM_layer0_bar',\n",
       " b'CalibJet_f_EEM_layer1_bar',\n",
       " b'CalibJet_f_EEM_layer2_bar',\n",
       " b'CalibJet_f_EEM_layer3_bar',\n",
       " b'CalibJet_f_EEM_layer0_end',\n",
       " b'CalibJet_f_EEM_layer1_end',\n",
       " b'CalibJet_f_EEM_layer2_end',\n",
       " b'CalibJet_f_EEM_layer3_end',\n",
       " b'CalibJet_f_EH_l1frac',\n",
       " b'CalibJet_Lxy',\n",
       " b'CalibJet_Lz',\n",
       " b'LLP_E',\n",
       " b'LLP_pT',\n",
       " b'LLP_eta',\n",
       " b'LLP_phi',\n",
       " b'LLP_beta',\n",
       " b'LLP_timing',\n",
       " b'LLP_Lxy',\n",
       " b'LLP_Lz',\n",
       " b'LLP_dR_Jet',\n",
       " b'LLP_nJet_dRlt04']"
      ]
     },
     "execution_count": 3,
     "metadata": {},
     "output_type": "execute_result"
    }
   ],
   "source": [
    "data = uproot.open(data_file)[\"recoTree\"]\n",
    "data.keys()"
   ]
  },
  {
   "cell_type": "code",
   "execution_count": 4,
   "metadata": {},
   "outputs": [],
   "source": [
    "mhtoht = data.arrays(\"event_MHToHT\")"
   ]
  },
  {
   "cell_type": "code",
   "execution_count": 5,
   "metadata": {},
   "outputs": [
    {
     "data": {
      "text/plain": [
       "{b'event_MHToHT': array([1.        , 1.00000001, 0.16909801, ..., 1.00000003, 0.        ,\n",
       "        0.49790157])}"
      ]
     },
     "execution_count": 5,
     "metadata": {},
     "output_type": "execute_result"
    }
   ],
   "source": [
    "mhtoht"
   ]
  },
  {
   "cell_type": "code",
   "execution_count": 9,
   "metadata": {},
   "outputs": [
    {
     "data": {
      "image/png": "[encoded data removed]",
      "text/plain": [
       "<Figure size 720x504 with 1 Axes>"
      ]
     },
     "metadata": {
      "needs_background": "light"
     },
     "output_type": "display_data"
    }
   ],
   "source": [
    "_=plt.hist(mhtoht[b'event_MHToHT'], bins=100)\n",
    "plt.yscale(\"log\")"
   ]
  },
  {
   "cell_type": "code",
   "execution_count": 10,
   "metadata": {},
   "outputs": [
    {
     "data": {
      "image/png": "[encoded data removed]",
      "text/plain": [
       "<Figure size 720x504 with 1 Axes>"
      ]
     },
     "metadata": {
      "needs_background": "light"
     },
     "output_type": "display_data"
    }
   ],
   "source": [
    "_=plt.hist(mhtoht[b'event_MHToHT'], bins=100)"
   ]
  }
 ],
 "metadata": {
  "kernelspec": {
   "display_name": "Python 3",
   "language": "python",
   "name": "python3"
  },
  "language_info": {
   "codemirror_mode": {
    "name": "ipython",
    "version": 3
   },
   "file_extension": ".py",
   "mimetype": "text/x-python",
   "name": "python",
   "nbconvert_exporter": "python",
   "pygments_lexer": "ipython3",
   "version": "3.6.7"
  }
 },
 "nbformat": 4,
 "nbformat_minor": 2
}
